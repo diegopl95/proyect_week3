{
 "cells": [
  {
   "cell_type": "code",
   "execution_count": 1,
   "id": "f3bf7b7f",
   "metadata": {},
   "outputs": [
    {
     "data": {
      "text/plain": [
       "'hello Paloma'"
      ]
     },
     "execution_count": 1,
     "metadata": {},
     "output_type": "execute_result"
    }
   ],
   "source": [
    "\"hello Paloma\""
   ]
  },
  {
   "cell_type": "code",
   "execution_count": null,
   "id": "81eecbb9",
   "metadata": {},
   "outputs": [],
   "source": []
  }
 ],
 "metadata": {
  "kernelspec": {
   "display_name": "Python 3 (ipykernel)",
   "language": "python",
   "name": "python3"
  },
  "language_info": {
   "codemirror_mode": {
    "name": "ipython",
    "version": 3
   },
   "file_extension": ".py",
   "mimetype": "text/x-python",
   "name": "python",
   "nbconvert_exporter": "python",
   "pygments_lexer": "ipython3",
   "version": "3.11.4"
  }
 },
 "nbformat": 4,
 "nbformat_minor": 5
}
