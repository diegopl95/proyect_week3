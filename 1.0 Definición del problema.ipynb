{
 "cells": [
  {
   "cell_type": "raw",
   "id": "c0fdb894",
   "metadata": {},
   "source": [
    "PROYECTO DE ANÁLISIS DE DATOS DE PELEADORES DE LA UFC\n",
    "\n",
    "DESCRIPCIÓN GENERAL\n",
    "\n",
    "Este proyecto tiene como objetivo analizar diversos datos sobre los peleadores de la UFC con la meta de, en un futuro, predecir o aproximarse a predecir el resultado de las peleas. El proceso inicia con la extracción de datos mediante scrapping de la página web oficial de la UFC. Posteriormente, se realiza una exhaustiva limpieza de datos para homogeneizar la información, permitiendo así un análisis adecuado y la obtención de conclusiones relevantes.\n",
    "\n",
    "ESTRUCTURA DEL PROYECTO\n",
    "Script en Python para llevar a cabo el scrapping de la página web de la UFC y obtener información actualizada de los peleadores.\n",
    "\n",
    "Script en Python dedicado a la limpieza de los datos extraídos, asegurando coherencia y consistencia en la información.\n",
    "\n",
    "Cuaderno de Jupyter que contiene un análisis detallado de los datos, exploración de patrones y obtención de conclusiones iniciales.\n",
    "\n",
    "PRÓXIMOS PASOS\n",
    "Los pasos futuros en el proyecto incluyen:\n",
    "\n",
    "Realizar procesos de Extracción, Transformación y Carga (ETL) para incorporar más datos.\n",
    "Enriquecer el estudio con puntos de datos adicionales.\n",
    "Reforzar el análisis de correlaciones para mejorar la precisión del modelo de predicción."
   ]
  }
 ],
 "metadata": {
  "kernelspec": {
   "display_name": "Python 3 (ipykernel)",
   "language": "python",
   "name": "python3"
  },
  "language_info": {
   "codemirror_mode": {
    "name": "ipython",
    "version": 3
   },
   "file_extension": ".py",
   "mimetype": "text/x-python",
   "name": "python",
   "nbconvert_exporter": "python",
   "pygments_lexer": "ipython3",
   "version": "3.11.4"
  }
 },
 "nbformat": 4,
 "nbformat_minor": 5
}
